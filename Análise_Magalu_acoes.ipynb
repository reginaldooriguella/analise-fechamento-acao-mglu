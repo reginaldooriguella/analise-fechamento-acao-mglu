{
  "nbformat": 4,
  "nbformat_minor": 0,
  "metadata": {
    "colab": {
      "name": "Análise Magalu acoes.ipynb",
      "provenance": []
    },
    "kernelspec": {
      "name": "python3",
      "display_name": "Python 3"
    },
    "language_info": {
      "name": "python"
    }
  },
  "cells": [
    {
      "cell_type": "code",
      "metadata": {
        "colab": {
          "base_uri": "https://localhost:8080/"
        },
        "id": "k_A4mbPJllsb",
        "outputId": "f596ab4c-5750-40d5-ea63-16934694e3c4"
      },
      "source": [
        "pip install pyspark"
      ],
      "execution_count": null,
      "outputs": [
        {
          "output_type": "stream",
          "text": [
            "Collecting pyspark\n",
            "\u001b[?25l  Downloading https://files.pythonhosted.org/packages/89/db/e18cfd78e408de957821ec5ca56de1250645b05f8523d169803d8df35a64/pyspark-3.1.2.tar.gz (212.4MB)\n",
            "\u001b[K     |████████████████████████████████| 212.4MB 66kB/s \n",
            "\u001b[?25hCollecting py4j==0.10.9\n",
            "\u001b[?25l  Downloading https://files.pythonhosted.org/packages/9e/b6/6a4fb90cd235dc8e265a6a2067f2a2c99f0d91787f06aca4bcf7c23f3f80/py4j-0.10.9-py2.py3-none-any.whl (198kB)\n",
            "\u001b[K     |████████████████████████████████| 204kB 20.5MB/s \n",
            "\u001b[?25hBuilding wheels for collected packages: pyspark\n",
            "  Building wheel for pyspark (setup.py) ... \u001b[?25l\u001b[?25hdone\n",
            "  Created wheel for pyspark: filename=pyspark-3.1.2-py2.py3-none-any.whl size=212880768 sha256=0f7e81dde620d826fadcf999025cbe9bdb0e7cd1f0026ba6ef9cc017837b34e1\n",
            "  Stored in directory: /root/.cache/pip/wheels/40/1b/2c/30f43be2627857ab80062bef1527c0128f7b4070b6b2d02139\n",
            "Successfully built pyspark\n",
            "Installing collected packages: py4j, pyspark\n",
            "Successfully installed py4j-0.10.9 pyspark-3.1.2\n"
          ],
          "name": "stdout"
        }
      ]
    },
    {
      "cell_type": "markdown",
      "metadata": {
        "id": "E3XY2lILrJgX"
      },
      "source": [
        "Ler arquivo MGLU\n",
        "Calcular máximo, mínimo do fechamento da ação, média da variação\n"
      ]
    },
    {
      "cell_type": "code",
      "metadata": {
        "id": "wbhQcPMmlqVl"
      },
      "source": [
        "from pyspark.sql import SparkSession"
      ],
      "execution_count": 12,
      "outputs": []
    },
    {
      "cell_type": "code",
      "metadata": {
        "id": "9cg-XlGqltZO"
      },
      "source": [
        "spark = SparkSession.builder.appName('atividade-3').getOrCreate()"
      ],
      "execution_count": 14,
      "outputs": []
    },
    {
      "cell_type": "code",
      "metadata": {
        "id": "crrzAMszvaU5"
      },
      "source": [
        "mglu = spark.read.csv('mglu.csv', inferSchema=True, header=True)\n"
      ],
      "execution_count": 20,
      "outputs": []
    },
    {
      "cell_type": "code",
      "metadata": {
        "colab": {
          "base_uri": "https://localhost:8080/",
          "height": 0
        },
        "id": "x6pKujNevd-e",
        "outputId": "c12f7519-6977-4d8c-dd8e-faa9aa3e2c17"
      },
      "source": [
        "mglu.show()\n"
      ],
      "execution_count": 21,
      "outputs": [
        {
          "output_type": "stream",
          "text": [
            "+----------+--------+----------+--------+------+------+-------+\n",
            "|      DATA|ABERTURA|FECHAMENTO|VARIAÇÃO|MÍNIMO|MÁXIMO| VOLUME|\n",
            "+----------+--------+----------+--------+------+------+-------+\n",
            "|04/06/2021|   20.61|     20.85|    1.71| 20.51| 21.05|370.28M|\n",
            "|02/06/2021|   20.41|      20.5|    0.74| 20.25| 21.26|562.31M|\n",
            "|01/06/2021|   20.26|     20.35|    0.94| 20.21| 20.65|364.12M|\n",
            "|31/05/2021|   20.26|     20.16|   -0.44| 19.98|  20.4|250.07M|\n",
            "|28/05/2021|    19.7|     20.25|    3.37| 19.62| 20.42|388.61M|\n",
            "|27/05/2021|   19.74|     19.59|   -0.41| 19.47| 19.84|438.23M|\n",
            "|26/05/2021|   20.36|     19.67|   -1.75| 19.65| 20.39|351.06M|\n",
            "|25/05/2021|    20.2|     20.02|     0.1| 20.02| 20.66|681.92M|\n",
            "|24/05/2021|   18.55|      20.0|    7.93| 18.51| 20.06|856.82M|\n",
            "|21/05/2021|   18.75|     18.53|   -1.12| 18.25| 18.78|420.10M|\n",
            "|20/05/2021|   18.68|     18.74|    0.32|  18.6| 18.88|205.42M|\n",
            "|19/05/2021|   18.76|     18.68|   -1.53| 18.54| 19.12|312.66M|\n",
            "|18/05/2021|   18.83|     18.97|    0.58| 18.77| 19.41|341.30M|\n",
            "|17/05/2021|   19.12|     18.86|   -1.51| 18.73| 19.22|292.69M|\n",
            "|14/05/2021|    19.6|     19.15|     0.1| 18.97| 19.74|514.63M|\n",
            "|13/05/2021|   18.81|     19.13|     2.9| 18.73| 19.25|376.03M|\n",
            "|12/05/2021|    19.0|     18.59|   -3.78|  18.5| 19.15|403.46M|\n",
            "|11/05/2021|    19.0|     19.32|    0.63| 18.66| 19.39|505.78M|\n",
            "|10/05/2021|   19.89|      19.2|   -3.47| 19.05| 19.98|421.70M|\n",
            "|07/05/2021|   19.58|     19.89|    2.21| 19.33|  19.9|454.12M|\n",
            "+----------+--------+----------+--------+------+------+-------+\n",
            "only showing top 20 rows\n",
            "\n"
          ],
          "name": "stdout"
        }
      ]
    },
    {
      "cell_type": "code",
      "metadata": {
        "id": "-lOlbNoSvgrL"
      },
      "source": [
        "from pyspark.sql.functions import avg, format_number, max, min\n"
      ],
      "execution_count": 22,
      "outputs": []
    },
    {
      "cell_type": "code",
      "metadata": {
        "colab": {
          "base_uri": "https://localhost:8080/",
          "height": 0
        },
        "id": "Ogun5KIcviol",
        "outputId": "f2421db0-d7fb-463c-8158-bb5f87a1fc0b"
      },
      "source": [
        "mglu.select(\n",
        "    avg('VARIAÇÃO').alias('avg-variacao'),\n",
        "    max('FECHAMENTO').alias('max-fechamento'),\n",
        "    min('FECHAMENTO').alias('min-fechamento'),\n",
        ").select(\n",
        "    format_number('avg-variacao',2), \n",
        "    format_number('max-fechamento',2), \n",
        "    format_number('min-fechamento',2)\n",
        ").show()\n"
      ],
      "execution_count": 23,
      "outputs": [
        {
          "output_type": "stream",
          "text": [
            "+------------------------------+--------------------------------+--------------------------------+\n",
            "|format_number(avg-variacao, 2)|format_number(max-fechamento, 2)|format_number(min-fechamento, 2)|\n",
            "+------------------------------+--------------------------------+--------------------------------+\n",
            "|                         -0.03|                           22.20|                           18.53|\n",
            "+------------------------------+--------------------------------+--------------------------------+\n",
            "\n"
          ],
          "name": "stdout"
        }
      ]
    }
  ]
}